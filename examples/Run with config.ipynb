{
 "cells": [
  {
   "cell_type": "code",
   "execution_count": 13,
   "metadata": {},
   "outputs": [],
   "source": [
    "import yaml\n",
    "import os\n",
    "import sys\n",
    "import albumentations as A\n",
    "\n",
    "module_path = os.path.abspath(os.path.join('../'))\n",
    "if module_path not in sys.path:\n",
    "    sys.path.append(module_path)\n",
    "    \n",
    "from building_footprint_segmentation.segmentation import init_segmentation, read_trainer_config\n",
    "from building_footprint_segmentation.helpers.callbacks import CallbackList, load_callback\n",
    "\n",
    "config_path = r\"/home/ippws/building-footprint-segmentation/resnet50rio.yaml\""
   ]
  },
  {
   "cell_type": "markdown",
   "metadata": {},
   "source": [
    "### Load the config file for training"
   ]
  },
  {
   "cell_type": "code",
   "execution_count": 14,
   "metadata": {},
   "outputs": [],
   "source": [
    "config = read_trainer_config(config_path)"
   ]
  },
  {
   "cell_type": "markdown",
   "metadata": {},
   "source": [
    "### Initalize type of segmentation to run for building footprint"
   ]
  },
  {
   "cell_type": "code",
   "execution_count": 15,
   "metadata": {},
   "outputs": [],
   "source": [
    "segmentation = init_segmentation(config[\"Segmentation\"])"
   ]
  },
  {
   "cell_type": "markdown",
   "metadata": {},
   "source": [
    "### Load essential segmentation objects for training"
   ]
  },
  {
   "cell_type": "code",
   "execution_count": null,
   "metadata": {},
   "outputs": [
    {
     "name": "stderr",
     "output_type": "stream",
     "text": [
      "/home/ippws/anaconda3/envs/torchtest/lib/python3.12/site-packages/torchvision/models/_utils.py:208: UserWarning: The parameter 'pretrained' is deprecated since 0.13 and may be removed in the future, please use 'weights' instead.\n",
      "  warnings.warn(\n",
      "/home/ippws/anaconda3/envs/torchtest/lib/python3.12/site-packages/torchvision/models/_utils.py:223: UserWarning: Arguments other than a weight enum or `None` for 'weights' are deprecated since 0.13 and may be removed in the future. The current behavior is equivalent to passing `weights=ResNet50_Weights.IMAGENET1K_V1`. You can also use `weights=ResNet50_Weights.DEFAULT` to get the most up-to-date weights.\n",
      "  warnings.warn(msg)\n"
     ]
    },
    {
     "name": "stdout",
     "output_type": "stream",
     "text": [
      "Received kwargs: {'dice_weights': 1.0}\n"
     ]
    }
   ],
   "source": [
    "augmenters_alfa = A.Compose([\n",
    "    A.HorizontalFlip(p=0.5),\n",
    "    A.RandomBrightnessContrast(p=0.2)\n",
    "])\n",
    "augmenters = A.to_dict(augmenters_alfa)\n",
    "\n",
    "model = segmentation.load_model(name=config[\"Model\"][\"name\"])\n",
    "criterion = segmentation.load_criterion(**config[\"Criterion\"])\n",
    "loader = segmentation.load_loader(\n",
    "    config[\"Loader\"][\"root\"],\n",
    "    config[\"Loader\"][\"image_normalizer\"],\n",
    "    config[\"Loader\"][\"label_normalizer\"],\n",
    "    augmenters_alfa,\n",
    "    config[\"Loader\"][\"batch_size\"],\n",
    ")\n",
    "metrics = segmentation.load_metrics(\n",
    "    data_metrics=config[\"Metrics\"]\n",
    ")\n",
    "#if error on albumentations occur change augmenters_alfa to augmenters\n",
    "optimizer = segmentation.load_optimizer(model, name=config[\"Optimizer\"][\"name\"], lr= 1e-4, weight_decay = 1e-5)\n",
    "\n",
    "callbacks = CallbackList()\n",
    "# Ouptut from all the callbacks caller will be stored at the path specified in log_dir\n",
    "for caller in config[\"Callbacks\"][\"callers\"]:\n",
    "    callbacks.append(load_callback(config[\"Callbacks\"][\"log_dir\"], caller))"
   ]
  },
  {
   "cell_type": "markdown",
   "metadata": {},
   "source": [
    "### Initalize the Trainer object\n"
   ]
  },
  {
   "cell_type": "code",
   "execution_count": 17,
   "metadata": {},
   "outputs": [
    {
     "data": {
      "text/plain": [
       "'\\ntrainer = Trainer(\\n    model=model,\\n    criterion=criterion,\\n    loader=loader,\\n    metrics=metrics,\\n    callbacks=callbacks,\\n    optimizer=optimizer,\\n    scheduler=None,\\n)\\n'"
      ]
     },
     "execution_count": 17,
     "metadata": {},
     "output_type": "execute_result"
    }
   ],
   "source": [
    "# Add this to your notebook after loading the config and before training\n",
    "\n",
    "# 1. Import the new visualization classes\n",
    "from building_footprint_segmentation.trainer import EnhancedTrainingVisualizer\n",
    "from building_footprint_segmentation.helpers.callbacks import VisualizationCallback, AUCCallback\n",
    "from building_footprint_segmentation.trainer import Trainer\n",
    "\n",
    "# 2. Initialize the visualizer\n",
    "visualizer = EnhancedTrainingVisualizer(save_dir='/home/ippws/building-footprint-segmentation/logs/graphs')\n",
    "\n",
    "# 3. Create the callbacks\n",
    "viz_callback = VisualizationCallback(\n",
    "    log_dir=config[\"Callbacks\"][\"log_dir\"],\n",
    "    visualizer=visualizer,\n",
    "    plot_frequency=5,  # Plot every 5 epochs\n",
    "    collect_auc_data=True\n",
    ")\n",
    "\n",
    "auc_callback = AUCCallback(\n",
    "    log_dir=config[\"Callbacks\"][\"log_dir\"],\n",
    "    visualizer=visualizer,\n",
    "    compute_frequency=10  # Compute AUC every 10 epochs\n",
    ")\n",
    "\n",
    "# 4. Add these callbacks to your existing callbacks\n",
    "callbacks.append(viz_callback)\n",
    "callbacks.append(auc_callback)\n",
    "\n",
    "# 5. Now create the trainer with all callbacks (including the new ones)\n",
    "trainer = Trainer(\n",
    "    model=model,\n",
    "    criterion=criterion,\n",
    "    loader=loader,\n",
    "    metrics=metrics,\n",
    "    callbacks=callbacks,  # This now includes visualization callbacks\n",
    "    optimizer=optimizer,\n",
    "    scheduler=None,\n",
    ")\n",
    "\n",
    "# 6. IMPORTANT: Update callback parameters to pass the loader\n",
    "callbacks.update_params({'loader': loader})\n",
    "\n",
    "\"\"\"\n",
    "trainer = Trainer(\n",
    "    model=model,\n",
    "    criterion=criterion,\n",
    "    loader=loader,\n",
    "    metrics=metrics,\n",
    "    callbacks=callbacks,\n",
    "    optimizer=optimizer,\n",
    "    scheduler=None,\n",
    ")\n",
    "\"\"\""
   ]
  },
  {
   "cell_type": "markdown",
   "metadata": {},
   "source": [
    "### Start training\n"
   ]
  },
  {
   "cell_type": "code",
   "execution_count": 18,
   "metadata": {},
   "outputs": [
    {
     "name": "stderr",
     "output_type": "stream",
     "text": [
      "Epoch 0, lr 0.0001: 100%|██████████| 7664/7664 [05:27<00:00, 23.39it/s, loss=0.48257]\n"
     ]
    },
    {
     "name": "stdout",
     "output_type": "stream",
     "text": [
      "\u001b[1;37m>>\u001b[KPy-OneLiner : \u001b[36mLoss\u001b[0m : \u001b[30mtrain: 0.48257012039422986, validation: 0.4595575865772035\u001b[0m\n",
      "\u001b[1;37m>>\u001b[KPy-OneLiner : \u001b[36mTrain Metric\u001b[0m : \u001b[30maccuracy : 0.85774, precision : 0.75176, f1 : 0.78375, recall : 0.83809, iou : 0.65027\u001b[0m\n",
      "\u001b[1;37m>>\u001b[KPy-OneLiner : \u001b[36mValid Metric\u001b[0m : \u001b[30maccuracy : 0.89383, precision : 0.82717, f1 : 0.84602, recall : 0.86703, iou : 0.73375\u001b[0m\n",
      "\u001b[1;37m>>\u001b[KPy-OneLiner : Training Complete\n",
      "\u001b[1;37m>>\u001b[KPy-OneLiner : \u001b[36mRun Time\u001b[0m : \u001b[30m0:Days 0:Hours 5:Minutes 52:Seconds\u001b[0m\n",
      "============================================================\n",
      "Training Complete - Generating Final Visualizations\n",
      "============================================================\n",
      "Training curves saved to: /home/ippws/building-footprint-segmentation/logs/graphs/final_training_curves.png\n",
      "Visualization complete!\n"
     ]
    }
   ],
   "source": [
    "\n",
    "# 7. Train as normal\n",
    "trainer.train(start_epoch=0, end_epoch=1)\n",
    "\n"
   ]
  },
  {
   "cell_type": "code",
   "execution_count": null,
   "metadata": {},
   "outputs": [],
   "source": []
  },
  {
   "cell_type": "markdown",
   "metadata": {},
   "source": [
    "### Resuming Training\n"
   ]
  }
 ],
 "metadata": {
  "kernelspec": {
   "display_name": "torchtest",
   "language": "python",
   "name": "python3"
  },
  "language_info": {
   "codemirror_mode": {
    "name": "ipython",
    "version": 3
   },
   "file_extension": ".py",
   "mimetype": "text/x-python",
   "name": "python",
   "nbconvert_exporter": "python",
   "pygments_lexer": "ipython3",
   "version": "3.12.11"
  }
 },
 "nbformat": 4,
 "nbformat_minor": 4
}
